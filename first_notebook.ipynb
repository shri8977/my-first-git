{
 "cells": [
  {
   "cell_type": "code",
   "execution_count": 1,
   "id": "9fb01523-cc71-4795-9d75-44422ff92cdb",
   "metadata": {},
   "outputs": [
    {
     "name": "stdout",
     "output_type": "stream",
     "text": [
      "Hello from my first notebook!\n"
     ]
    }
   ],
   "source": [
    "print(\"Hello from my first notebook!\")\n"
   ]
  },
  {
   "cell_type": "code",
   "execution_count": null,
   "id": "48834261-a998-49ba-8035-245f0dc1a7f7",
   "metadata": {},
   "outputs": [],
   "source": []
  }
 ],
 "metadata": {
  "kernelspec": {
   "display_name": "Python 3 (ipykernel)",
   "language": "python",
   "name": "python3"
  },
  "language_info": {
   "codemirror_mode": {
    "name": "ipython",
    "version": 3
   },
   "file_extension": ".py",
   "mimetype": "text/x-python",
   "name": "python",
   "nbconvert_exporter": "python",
   "pygments_lexer": "ipython3",
   "version": "3.12.3"
  }
 },
 "nbformat": 4,
 "nbformat_minor": 5
}
